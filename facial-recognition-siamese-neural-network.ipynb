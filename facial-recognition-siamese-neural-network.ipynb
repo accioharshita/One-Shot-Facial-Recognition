{
 "cells": [
  {
   "cell_type": "code",
   "execution_count": 1,
   "id": "682bb1b9",
   "metadata": {},
   "outputs": [],
   "source": [
    "import cv2\n",
    "import numpy as np\n",
    "import matplotlib.pyplot as plt\n",
    "import os"
   ]
  },
  {
   "cell_type": "code",
   "execution_count": 2,
   "id": "60545b44",
   "metadata": {
    "scrolled": true
   },
   "outputs": [],
   "source": [
    "POS_PATH= os.path.join('data', 'positive')\n",
    "NEG_PATH= os.path.join('data', 'negative')\n",
    "ANC_PATH= os.path.join('data', 'anchor')"
   ]
  },
  {
   "cell_type": "code",
   "execution_count": 3,
   "id": "46a7c889",
   "metadata": {},
   "outputs": [],
   "source": [
    "# os.makedirs(POS_PATH)\n",
    "# os.makedirs(NEG_PATH)\n",
    "# os.makedirs(ANC_PATH)"
   ]
  },
  {
   "cell_type": "code",
   "execution_count": 4,
   "id": "7e9ca8c9",
   "metadata": {},
   "outputs": [],
   "source": [
    "#uncompressing tar file\n",
    "\n",
    "# !tar -xf lfw.tgz"
   ]
  },
  {
   "cell_type": "code",
   "execution_count": 5,
   "id": "521994ef",
   "metadata": {},
   "outputs": [],
   "source": [
    "#moving the lfw images to the negative folder\n",
    "\n",
    "\n",
    "# for directory in os.listdir('lfw'):\n",
    "#   for file in os.listdir(os.path.join('lfw', directory)):\n",
    "#     EX_PATH= os.path.join('lfw', directory, file) #existing path\n",
    "#     NEW_PATH= os.path.join(NEG_PATH, file)\n",
    "#     os.replace(EX_PATH, NEW_PATH)"
   ]
  },
  {
   "cell_type": "code",
   "execution_count": 6,
   "id": "89f4060d",
   "metadata": {},
   "outputs": [
    {
     "data": {
      "text/plain": [
       "'data\\\\anchor\\\\3b59672d-8365-11ed-90fa-54bf6418a3f5.jpg'"
      ]
     },
     "execution_count": 6,
     "metadata": {},
     "output_type": "execute_result"
    }
   ],
   "source": [
    "#importing uuid library to generate unique image names\n",
    "import uuid\n",
    "\n",
    "os.path.join(ANC_PATH, '{}.jpg'.format(uuid.uuid1()))"
   ]
  },
  {
   "cell_type": "code",
   "execution_count": 7,
   "id": "6491f2b0",
   "metadata": {},
   "outputs": [],
   "source": [
    "# # #Collecting data for positive and anchor classes\n",
    "\n",
    "# cap= cv2.VideoCapture(0)\n",
    "\n",
    "# while cap.isOpened():\n",
    "#   ret,frame= cap.read() #frame is the actual image\n",
    "\n",
    "#   frame = frame[100:250+100, 200:200+250, :] #making the image 250X250 px\n",
    "    \n",
    "\n",
    "#   #collect anchors\n",
    "#   if cv2.waitKey(1) & 0XFF== ord('a'):\n",
    "#         imgname= os.path.join(ANC_PATH, '{}.jpg'.format(uuid.uuid1())) #creating unique file path\n",
    "#         cv2.imwrite(imgname, frame) #writing down image\n",
    "        \n",
    "        \n",
    "#   #collect positives\n",
    "#   if cv2.waitKey(1) & 0XFF== ord('p'):\n",
    "#         imgname= os.path.join(POS_PATH, '{}.jpg'.format(uuid.uuid1())) \n",
    "#         cv2.imwrite(imgname, frame)\n",
    "\n",
    "#   cv2.imshow('Image Collection', frame) #show image to the screen\n",
    "\n",
    "#   if cv2.waitKey(1) & 0XFF== ord('q'):\n",
    "#     break\n",
    "\n",
    "# cap.release() #Releasing webcamqq\n",
    "# cv2.destroyAllWindows()\n"
   ]
  },
  {
   "cell_type": "code",
   "execution_count": 8,
   "id": "c28db523",
   "metadata": {},
   "outputs": [],
   "source": [
    "# frame.shape #as the shape is not in the 250,250 range we will make some adjustments"
   ]
  },
  {
   "cell_type": "markdown",
   "id": "7e79d769",
   "metadata": {},
   "source": [
    "## 3. Loading and Preprocessing Images\n",
    "\n",
    "### 3.1 Get image directories"
   ]
  },
  {
   "cell_type": "code",
   "execution_count": 9,
   "id": "bb622f59",
   "metadata": {},
   "outputs": [],
   "source": [
    "import tensorflow as tf\n",
    "from tensorflow.keras.models import Model\n",
    "from tensorflow.keras.layers import Layer, Conv2D, MaxPooling2D, Dense, Flatten, Input"
   ]
  },
  {
   "cell_type": "code",
   "execution_count": 10,
   "id": "857bd2a7",
   "metadata": {},
   "outputs": [],
   "source": [
    "#Data Augmentation\n",
    "\n",
    "def data_aug(img):\n",
    "    data=[]\n",
    "    \n",
    "    for i in range(9):\n",
    "        \n",
    "        img= tf.image.stateless_random_brightness(img, max_delta=0.02, seed=(1,2))\n",
    "        img= tf.image.stateless_random_contrast(img, lower=0.6, upper=1, seed=(1,3))\n",
    "        img= tf.image.stateless_random_flip_left_right(img, seed=(np.random.randint(100), np.random.randint(100)))\n",
    "        img= tf.image.stateless_random_jpeg_quality(img, min_jpeg_quality=90, max_jpeg_quality=100, seed=(np.random.randint(100), np.random.randint(100)))\n",
    "        img= tf.image.stateless_random_saturation(img, lower=0.9, upper=1, seed=(np.random.randint(100), np.random.randint(100)))\n",
    "        \n",
    "        data.append(img)\n",
    "        \n",
    "    return data\n",
    "    "
   ]
  },
  {
   "cell_type": "code",
   "execution_count": 11,
   "id": "42e00e8f",
   "metadata": {},
   "outputs": [],
   "source": [
    "# for file_name in os.listdir(os.path.join(ANC_PATH)):\n",
    "#     img_path= os.path.join(ANC_PATH, file_name)\n",
    "#     img= cv2.imread(img_path)\n",
    "#     augmented_images= data_aug(img)\n",
    "    \n",
    "#     for image in augmented_images:\n",
    "#         cv2.imwrite(os.path.join(ANC_PATH, '{}.jpg'.format(uuid.uuid1())), image.numpy())"
   ]
  },
  {
   "cell_type": "code",
   "execution_count": 12,
   "id": "bb3ef364",
   "metadata": {},
   "outputs": [],
   "source": [
    "#using tf.data.Datasets to make data input pipelines\n",
    "\n",
    "anchor= tf.data.Dataset.list_files(ANC_PATH+ '\\*.jpg').take(3000) #\\* indidcating to grab everything in the jpg format\n",
    "positive= tf.data.Dataset.list_files(POS_PATH+ '\\*.jpg').take(3000)\n",
    "negative= tf.data.Dataset.list_files(NEG_PATH+ '\\*.jpg').take(3000)"
   ]
  },
  {
   "cell_type": "code",
   "execution_count": 13,
   "id": "219cd7ca",
   "metadata": {},
   "outputs": [
    {
     "name": "stdout",
     "output_type": "stream",
     "text": [
      "b'data\\\\anchor\\\\7513191d-82c4-11ed-9a9f-54bf6418a3f5.jpg'\n"
     ]
    }
   ],
   "source": [
    "#checking\n",
    "dir_test= anchor.as_numpy_iterator()\n",
    "ex= dir_test.next()\n",
    "print(ex)\n"
   ]
  },
  {
   "cell_type": "markdown",
   "id": "caa9f7e6",
   "metadata": {},
   "source": [
    "### 3.2 Preprocessing- Scaling and Resize"
   ]
  },
  {
   "cell_type": "code",
   "execution_count": 14,
   "id": "66994246",
   "metadata": {},
   "outputs": [],
   "source": [
    "def preprocessing(file_path):\n",
    "    \n",
    "    byte_img= tf.io.read_file(file_path)\n",
    "    img= tf.io.decode_jpeg(byte_img)\n",
    "    img= tf.image.resize(img, (100,100))\n",
    "    img= img/255.0\n",
    "    return img"
   ]
  },
  {
   "cell_type": "code",
   "execution_count": 15,
   "id": "074134cc",
   "metadata": {},
   "outputs": [
    {
     "data": {
      "text/plain": [
       "<tf.Tensor: shape=(100, 100, 3), dtype=float32, numpy=\n",
       "array([[[0.3781863 , 0.38602942, 0.36642158],\n",
       "        [0.38235295, 0.39411765, 0.3647059 ],\n",
       "        [0.3781863 , 0.389951  , 0.35465688],\n",
       "        ...,\n",
       "        [0.4759804 , 0.5661765 , 0.5367647 ],\n",
       "        [0.47377452, 0.56397057, 0.54044116],\n",
       "        [0.5019608 , 0.58431375, 0.5647059 ]],\n",
       "\n",
       "       [[0.3877451 , 0.39558825, 0.3759804 ],\n",
       "        [0.38308823, 0.39485294, 0.36544117],\n",
       "        [0.3752451 , 0.3870098 , 0.35171568],\n",
       "        ...,\n",
       "        [0.45882353, 0.55196077, 0.5181373 ],\n",
       "        [0.48039216, 0.5735294 , 0.54558825],\n",
       "        [0.4875    , 0.56936276, 0.5480392 ]],\n",
       "\n",
       "       [[0.3865196 , 0.39436275, 0.3747549 ],\n",
       "        [0.39166668, 0.4034314 , 0.3740196 ],\n",
       "        [0.3781863 , 0.389951  , 0.35465688],\n",
       "        ...,\n",
       "        [0.45661765, 0.5563725 , 0.51004905],\n",
       "        [0.4622549 , 0.55539215, 0.51715684],\n",
       "        [0.4882353 , 0.5656863 , 0.53333336]],\n",
       "\n",
       "       ...,\n",
       "\n",
       "       [[0.1637255 , 0.21176471, 0.24411765],\n",
       "        [0.16642156, 0.21372549, 0.25269607],\n",
       "        [0.1622549 , 0.21519607, 0.26519608],\n",
       "        ...,\n",
       "        [0.19264705, 0.21862745, 0.19191177],\n",
       "        [0.19166666, 0.22573529, 0.19607843],\n",
       "        [0.18921569, 0.22843137, 0.19705883]],\n",
       "\n",
       "       [[0.16078432, 0.19705883, 0.23235294],\n",
       "        [0.16053921, 0.19534314, 0.23872548],\n",
       "        [0.15245098, 0.19754902, 0.2504902 ],\n",
       "        ...,\n",
       "        [0.23235294, 0.25392157, 0.22720589],\n",
       "        [0.21053922, 0.2379902 , 0.21053922],\n",
       "        [0.19313726, 0.23235294, 0.2009804 ]],\n",
       "\n",
       "       [[0.1860294 , 0.22132353, 0.25661764],\n",
       "        [0.17083333, 0.20416667, 0.24828431],\n",
       "        [0.16078432, 0.20588236, 0.25882354],\n",
       "        ...,\n",
       "        [0.2637255 , 0.28333333, 0.25686276],\n",
       "        [0.21176471, 0.2372549 , 0.21078432],\n",
       "        [0.2       , 0.22745098, 0.2       ]]], dtype=float32)>"
      ]
     },
     "execution_count": 15,
     "metadata": {},
     "output_type": "execute_result"
    }
   ],
   "source": [
    "a= preprocessing(ex)\n",
    "a"
   ]
  },
  {
   "cell_type": "code",
   "execution_count": 16,
   "id": "4c2ce916",
   "metadata": {},
   "outputs": [
    {
     "data": {
      "text/plain": [
       "0.86519605"
      ]
     },
     "execution_count": 16,
     "metadata": {},
     "output_type": "execute_result"
    }
   ],
   "source": [
    "a.numpy().max()"
   ]
  },
  {
   "cell_type": "code",
   "execution_count": 17,
   "id": "5bc8a2ac",
   "metadata": {},
   "outputs": [
    {
     "data": {
      "text/plain": [
       "3000"
      ]
     },
     "execution_count": 17,
     "metadata": {},
     "output_type": "execute_result"
    }
   ],
   "source": [
    "len(anchor)"
   ]
  },
  {
   "cell_type": "markdown",
   "id": "9e6e82d2",
   "metadata": {},
   "source": [
    "### 3.3 Creating Labelled dataset"
   ]
  },
  {
   "cell_type": "code",
   "execution_count": 18,
   "id": "8f435a6b",
   "metadata": {},
   "outputs": [],
   "source": [
    "positives= tf.data.Dataset.zip((anchor,positive, tf.data.Dataset.from_tensor_slices(tf.ones(len(anchor)))))\n",
    "negatives= tf.data.Dataset.zip((anchor,negative, tf.data.Dataset.from_tensor_slices(tf.zeros(len(anchor)))))\n",
    "data= positives.concatenate(negatives)"
   ]
  },
  {
   "cell_type": "code",
   "execution_count": 19,
   "id": "25d8c78b",
   "metadata": {},
   "outputs": [
    {
     "name": "stdout",
     "output_type": "stream",
     "text": [
      "(b'data\\\\anchor\\\\28bef3ca-82c4-11ed-a131-54bf6418a3f5.jpg', b'data\\\\positive\\\\293ad19d-82a2-11ed-a2a8-54bf6418a3f5.jpg', 1.0)\n"
     ]
    }
   ],
   "source": [
    "example= data.as_numpy_iterator().next()\n",
    "print(example)"
   ]
  },
  {
   "cell_type": "markdown",
   "id": "8a21a49b",
   "metadata": {},
   "source": [
    "### 3.4 Building train test partition"
   ]
  },
  {
   "cell_type": "code",
   "execution_count": 20,
   "id": "2eb44d50",
   "metadata": {},
   "outputs": [],
   "source": [
    "def process(test_img, val_img, label):\n",
    "    return (preprocessing(test_img), preprocessing(val_img), label)"
   ]
  },
  {
   "cell_type": "code",
   "execution_count": 21,
   "id": "1d01ff19",
   "metadata": {},
   "outputs": [
    {
     "data": {
      "text/plain": [
       "(<tf.Tensor: shape=(100, 100, 3), dtype=float32, numpy=\n",
       " array([[[0.51911765, 0.5857843 , 0.54656863],\n",
       "         [0.50514704, 0.5718137 , 0.532598  ],\n",
       "         [0.50980395, 0.5764706 , 0.5372549 ],\n",
       "         ...,\n",
       "         [0.39313725, 0.40490195, 0.37745097],\n",
       "         [0.39828432, 0.41004902, 0.38259804],\n",
       "         [0.4       , 0.4117647 , 0.38431373]],\n",
       " \n",
       "        [[0.5088235 , 0.5735294 , 0.54313725],\n",
       "         [0.49436274, 0.56102943, 0.52818626],\n",
       "         [0.5019608 , 0.56715685, 0.53063726],\n",
       "         ...,\n",
       "         [0.39019608, 0.4019608 , 0.3745098 ],\n",
       "         [0.4019608 , 0.4137255 , 0.38627452],\n",
       "         [0.40392157, 0.41568628, 0.3882353 ]],\n",
       " \n",
       "        [[0.5120098 , 0.5708333 , 0.5492647 ],\n",
       "         [0.5002451 , 0.56691176, 0.5355392 ],\n",
       "         [0.49509802, 0.55588233, 0.527451  ],\n",
       "         ...,\n",
       "         [0.39387256, 0.40563726, 0.3781863 ],\n",
       "         [0.39607844, 0.40784314, 0.38039216],\n",
       "         [0.39607844, 0.40784314, 0.38039216]],\n",
       " \n",
       "        ...,\n",
       " \n",
       "        [[0.16764706, 0.20686275, 0.17254902],\n",
       "         [0.17524509, 0.21446079, 0.18308823],\n",
       "         [0.19607843, 0.22647059, 0.19803922],\n",
       "         ...,\n",
       "         [0.40245098, 0.39656863, 0.4014706 ],\n",
       "         [0.4       , 0.42745098, 0.4343137 ],\n",
       "         [0.3156863 , 0.3617647 , 0.36862746]],\n",
       " \n",
       "        [[0.17352942, 0.2127451 , 0.18137255],\n",
       "         [0.19411765, 0.23112746, 0.20049019],\n",
       "         [0.22328432, 0.2514706 , 0.22156863],\n",
       "         ...,\n",
       "         [0.485049  , 0.48284313, 0.47892156],\n",
       "         [0.389951  , 0.41887254, 0.425     ],\n",
       "         [0.29509804, 0.34117648, 0.3480392 ]],\n",
       " \n",
       "        [[0.19019608, 0.2254902 , 0.20588236],\n",
       "         [0.20980392, 0.24607843, 0.21568628],\n",
       "         [0.2509804 , 0.2784314 , 0.24803922],\n",
       "         ...,\n",
       "         [0.4598039 , 0.4617647 , 0.45490196],\n",
       "         [0.3254902 , 0.35490197, 0.3602941 ],\n",
       "         [0.26862746, 0.31470588, 0.32156864]]], dtype=float32)>,\n",
       " <tf.Tensor: shape=(100, 100, 3), dtype=float32, numpy=\n",
       " array([[[0.5178922 , 0.59632355, 0.5492647 ],\n",
       "         [0.50171566, 0.5801471 , 0.5330882 ],\n",
       "         [0.5026961 , 0.58112746, 0.53406864],\n",
       "         ...,\n",
       "         [0.40098038, 0.4127451 , 0.3852941 ],\n",
       "         [0.4002451 , 0.4120098 , 0.38455883],\n",
       "         [0.4019608 , 0.4137255 , 0.38627452]],\n",
       " \n",
       "        [[0.50686276, 0.5862745 , 0.5470588 ],\n",
       "         [0.49926472, 0.5801471 , 0.5382353 ],\n",
       "         [0.5022059 , 0.5830882 , 0.5411765 ],\n",
       "         ...,\n",
       "         [0.39387256, 0.40563726, 0.3781863 ],\n",
       "         [0.4       , 0.4117647 , 0.38431373],\n",
       "         [0.40098038, 0.4127451 , 0.3852941 ]],\n",
       " \n",
       "        [[0.49044117, 0.57279414, 0.5512255 ],\n",
       "         [0.48186275, 0.5656863 , 0.5355392 ],\n",
       "         [0.48333332, 0.56715685, 0.532598  ],\n",
       "         ...,\n",
       "         [0.39387256, 0.40563726, 0.3781863 ],\n",
       "         [0.3992647 , 0.4110294 , 0.38357842],\n",
       "         [0.39313725, 0.40490195, 0.37745097]],\n",
       " \n",
       "        ...,\n",
       " \n",
       "        [[0.1860294 , 0.20563726, 0.1879902 ],\n",
       "         [0.1879902 , 0.20759805, 0.18995099],\n",
       "         [0.19191177, 0.21151961, 0.19387256],\n",
       "         ...,\n",
       "         [0.17867647, 0.22181372, 0.26715687],\n",
       "         [0.18553922, 0.22279412, 0.26887256],\n",
       "         [0.16470589, 0.20196079, 0.24803922]],\n",
       " \n",
       "        [[0.20318627, 0.21691176, 0.19044118],\n",
       "         [0.21470588, 0.22843137, 0.20196079],\n",
       "         [0.22377451, 0.2375    , 0.21102941],\n",
       "         ...,\n",
       "         [0.16004902, 0.19583334, 0.23235294],\n",
       "         [0.19411765, 0.2240196 , 0.2634804 ],\n",
       "         [0.1872549 , 0.21593137, 0.25416666]],\n",
       " \n",
       "        [[0.20686275, 0.21862745, 0.19117647],\n",
       "         [0.23431373, 0.24607843, 0.21666667],\n",
       "         [0.2509804 , 0.2627451 , 0.22745098],\n",
       "         ...,\n",
       "         [0.5267157 , 0.560049  , 0.5884804 ],\n",
       "         [0.5254902 , 0.5529412 , 0.58431375],\n",
       "         [0.49411765, 0.50980395, 0.54509807]]], dtype=float32)>,\n",
       " 1.0)"
      ]
     },
     "execution_count": 21,
     "metadata": {},
     "output_type": "execute_result"
    }
   ],
   "source": [
    "process(*example)"
   ]
  },
  {
   "cell_type": "code",
   "execution_count": 22,
   "id": "946413ae",
   "metadata": {},
   "outputs": [],
   "source": [
    "#building dataloader pipeline\n",
    "\n",
    "data= data.map(process)\n",
    "data= data.cache()\n",
    "data= data.shuffle(buffer_size=10000)"
   ]
  },
  {
   "cell_type": "code",
   "execution_count": 23,
   "id": "6be67fcb",
   "metadata": {},
   "outputs": [
    {
     "data": {
      "text/plain": [
       "<ShuffleDataset element_spec=(TensorSpec(shape=(100, 100, None), dtype=tf.float32, name=None), TensorSpec(shape=(100, 100, None), dtype=tf.float32, name=None), TensorSpec(shape=(), dtype=tf.float32, name=None))>"
      ]
     },
     "execution_count": 23,
     "metadata": {},
     "output_type": "execute_result"
    }
   ],
   "source": [
    "data"
   ]
  },
  {
   "cell_type": "code",
   "execution_count": 24,
   "id": "3ef7858b",
   "metadata": {},
   "outputs": [],
   "source": [
    "a= data.as_numpy_iterator()\n",
    "samp= a.next()"
   ]
  },
  {
   "cell_type": "code",
   "execution_count": 25,
   "id": "91657b83",
   "metadata": {},
   "outputs": [
    {
     "data": {
      "text/plain": [
       "<matplotlib.image.AxesImage at 0x1ec9c8006a0>"
      ]
     },
     "execution_count": 25,
     "metadata": {},
     "output_type": "execute_result"
    },
    {
     "data": {
      "image/png": "[encoded data removed]",
      "text/plain": [
       "<Figure size 432x288 with 1 Axes>"
      ]
     },
     "metadata": {
      "needs_background": "light"
     },
     "output_type": "display_data"
    }
   ],
   "source": [
    "plt.imshow(samp[1])"
   ]
  },
  {
   "cell_type": "code",
   "execution_count": 26,
   "id": "8f7bcca2",
   "metadata": {},
   "outputs": [],
   "source": [
    "#creating train partition\n",
    "\n",
    "train_data= data.take(round(len(data) *.7))\n",
    "train_data= train_data.batch(16)\n",
    "train_data= train_data.prefetch(8)\n"
   ]
  },
  {
   "cell_type": "code",
   "execution_count": 27,
   "id": "7790c3d6",
   "metadata": {},
   "outputs": [
    {
     "data": {
      "text/plain": [
       "<PrefetchDataset element_spec=(TensorSpec(shape=(None, 100, 100, None), dtype=tf.float32, name=None), TensorSpec(shape=(None, 100, 100, None), dtype=tf.float32, name=None), TensorSpec(shape=(None,), dtype=tf.float32, name=None))>"
      ]
     },
     "execution_count": 27,
     "metadata": {},
     "output_type": "execute_result"
    }
   ],
   "source": [
    "train_data"
   ]
  },
  {
   "cell_type": "code",
   "execution_count": 28,
   "id": "9720174a",
   "metadata": {},
   "outputs": [
    {
     "data": {
      "text/plain": [
       "16"
      ]
     },
     "execution_count": 28,
     "metadata": {},
     "output_type": "execute_result"
    }
   ],
   "source": [
    "#checking \n",
    "ts= train_data.as_numpy_iterator()\n",
    "tss= ts.next()\n",
    "\n",
    "len(tss[1])"
   ]
  },
  {
   "cell_type": "code",
   "execution_count": 29,
   "id": "039a2512",
   "metadata": {},
   "outputs": [],
   "source": [
    "#creating testing partition\n",
    "\n",
    "test_data= data.skip(round(len(data) *.7))\n",
    "test_data= test_data.take(round(len(data) * .3))\n",
    "test_data= test_data.batch(16)\n",
    "test_data= test_data.prefetch(8)"
   ]
  },
  {
   "cell_type": "markdown",
   "id": "5f0fe9fb",
   "metadata": {},
   "source": [
    "## 4. Model\n",
    "\n",
    "### 4.1 Embedding layer"
   ]
  },
  {
   "cell_type": "code",
   "execution_count": 30,
   "id": "384cde63",
   "metadata": {},
   "outputs": [],
   "source": [
    "def make_embedding():\n",
    "    \n",
    "    inp= Input(shape= (100,100,3), name='input_image')\n",
    "    \n",
    "    #first block\n",
    "    c1= Conv2D(64, (10,10), activation= 'relu')(inp)\n",
    "    m1= MaxPooling2D(64, (2,2), padding='same')(c1)\n",
    "    \n",
    "    #second block\n",
    "    c2= Conv2D(128, (7,7), activation= 'relu')(m1)\n",
    "    m2= MaxPooling2D(64, (2,2), padding='same')(c2)\n",
    "    \n",
    "    #third block\n",
    "    c3= Conv2D(128, (4,4), activation= 'relu')(m2)\n",
    "    m3= MaxPooling2D(64, (2,2), padding='same')(c3)\n",
    "    \n",
    "    #final embedding block\n",
    "    c4= Conv2D(256, (4,4), activation='relu')(m3)\n",
    "    f1= Flatten()(c4)\n",
    "    d1= Dense(4096, activation= 'sigmoid')(f1)\n",
    "    \n",
    "    \n",
    "    return Model(inputs=[inp], outputs=[d1] , name='embedding')\n",
    "    "
   ]
  },
  {
   "cell_type": "code",
   "execution_count": 31,
   "id": "e43fade9",
   "metadata": {},
   "outputs": [],
   "source": [
    "embedding= make_embedding()"
   ]
  },
  {
   "cell_type": "code",
   "execution_count": 32,
   "id": "865c60a6",
   "metadata": {},
   "outputs": [
    {
     "name": "stdout",
     "output_type": "stream",
     "text": [
      "Model: \"embedding\"\n",
      "_________________________________________________________________\n",
      " Layer (type)                Output Shape              Param #   \n",
      "=================================================================\n",
      " input_image (InputLayer)    [(None, 100, 100, 3)]     0         \n",
      "                                                                 \n",
      " conv2d (Conv2D)             (None, 91, 91, 64)        19264     \n",
      "                                                                 \n",
      " max_pooling2d (MaxPooling2D  (None, 46, 46, 64)       0         \n",
      " )                                                               \n",
      "                                                                 \n",
      " conv2d_1 (Conv2D)           (None, 40, 40, 128)       401536    \n",
      "                                                                 \n",
      " max_pooling2d_1 (MaxPooling  (None, 20, 20, 128)      0         \n",
      " 2D)                                                             \n",
      "                                                                 \n",
      " conv2d_2 (Conv2D)           (None, 17, 17, 128)       262272    \n",
      "                                                                 \n",
      " max_pooling2d_2 (MaxPooling  (None, 9, 9, 128)        0         \n",
      " 2D)                                                             \n",
      "                                                                 \n",
      " conv2d_3 (Conv2D)           (None, 6, 6, 256)         524544    \n",
      "                                                                 \n",
      " flatten (Flatten)           (None, 9216)              0         \n",
      "                                                                 \n",
      " dense (Dense)               (None, 4096)              37752832  \n",
      "                                                                 \n",
      "=================================================================\n",
      "Total params: 38,960,448\n",
      "Trainable params: 38,960,448\n",
      "Non-trainable params: 0\n",
      "_________________________________________________________________\n"
     ]
    }
   ],
   "source": [
    "embedding.summary()"
   ]
  },
  {
   "cell_type": "markdown",
   "id": "66733b3c",
   "metadata": {},
   "source": [
    "### 4.2 Build Distance layer\n",
    "\n",
    "The output that we are going to get through 2 streams, we are subtracting them to make one common output which will help us to do the facial recognition by basically telling us how similar these layers are"
   ]
  },
  {
   "cell_type": "code",
   "execution_count": 33,
   "id": "738ef956",
   "metadata": {},
   "outputs": [],
   "source": [
    "#siamese L1 distance class\n",
    "\n",
    "class L1Dist(Layer):\n",
    "    def __init__(self, **kwargs):\n",
    "        super().__init__()\n",
    "        \n",
    "    def call(self, input_embedding, validation_embedding):\n",
    "        return tf.math.abs(input_embedding - validation_embedding)"
   ]
  },
  {
   "cell_type": "markdown",
   "id": "72b0ceeb",
   "metadata": {},
   "source": [
    "### 4.3 Make Siamese Model"
   ]
  },
  {
   "cell_type": "code",
   "execution_count": 34,
   "id": "96a74cdb",
   "metadata": {},
   "outputs": [],
   "source": [
    "def make_siamese_model():\n",
    "    \n",
    "    #anchor image input in the network\n",
    "    input_image= Input(name='input_img', shape=(100,100,3))\n",
    "    \n",
    "    #validation image in the network\n",
    "    validation_image= Input(name='validation_img', shape= (100,100,3))\n",
    "    \n",
    "    #combining siamese distance components\n",
    "    siamese_layer= L1Dist()\n",
    "    siamese_layer._name= 'distance'\n",
    "    distances= siamese_layer(embedding(input_image), embedding(validation_image))\n",
    "    \n",
    "    #classification layer\n",
    "    classifier= Dense(1, activation='sigmoid')(distances)\n",
    "    \n",
    "    return Model(inputs= [input_image, validation_image], outputs= classifier, name='SiameseNetwork')\n",
    "    "
   ]
  },
  {
   "cell_type": "code",
   "execution_count": 35,
   "id": "1d0e7289",
   "metadata": {},
   "outputs": [
    {
     "name": "stdout",
     "output_type": "stream",
     "text": [
      "Model: \"SiameseNetwork\"\n",
      "__________________________________________________________________________________________________\n",
      " Layer (type)                   Output Shape         Param #     Connected to                     \n",
      "==================================================================================================\n",
      " input_img (InputLayer)         [(None, 100, 100, 3  0           []                               \n",
      "                                )]                                                                \n",
      "                                                                                                  \n",
      " validation_img (InputLayer)    [(None, 100, 100, 3  0           []                               \n",
      "                                )]                                                                \n",
      "                                                                                                  \n",
      " embedding (Functional)         (None, 4096)         38960448    ['input_img[0][0]',              \n",
      "                                                                  'validation_img[0][0]']         \n",
      "                                                                                                  \n",
      " distance (L1Dist)              (None, 4096)         0           ['embedding[0][0]',              \n",
      "                                                                  'embedding[1][0]']              \n",
      "                                                                                                  \n",
      " dense_1 (Dense)                (None, 1)            4097        ['distance[0][0]']               \n",
      "                                                                                                  \n",
      "==================================================================================================\n",
      "Total params: 38,964,545\n",
      "Trainable params: 38,964,545\n",
      "Non-trainable params: 0\n",
      "__________________________________________________________________________________________________\n"
     ]
    }
   ],
   "source": [
    "siamese_model= make_siamese_model()\n",
    "siamese_model.summary()"
   ]
  },
  {
   "cell_type": "markdown",
   "id": "0fece731",
   "metadata": {},
   "source": [
    " ## 5. Training\n",
    " \n",
    " ### 5.1 Setup Losses and Optimisers"
   ]
  },
  {
   "cell_type": "code",
   "execution_count": 36,
   "id": "bc82ae17",
   "metadata": {},
   "outputs": [],
   "source": [
    "binary_cross_loss= tf.losses.BinaryCrossentropy()"
   ]
  },
  {
   "cell_type": "code",
   "execution_count": 37,
   "id": "45760a8e",
   "metadata": {},
   "outputs": [],
   "source": [
    "opt= tf.optimizers.Adam(1e-4)"
   ]
  },
  {
   "cell_type": "markdown",
   "id": "c4e31cf7",
   "metadata": {},
   "source": [
    "### 5.2 Establishing Checkpoints"
   ]
  },
  {
   "cell_type": "code",
   "execution_count": 38,
   "id": "88dbeb1f",
   "metadata": {},
   "outputs": [],
   "source": [
    "checkpoint_dir= './training_checkpoints'\n",
    "checkpoint_prefix= os.path.join(checkpoint_dir, 'ckpt')\n",
    "checkpoint= tf.train.Checkpoint(opt=opt, siamese_model=siamese_model)"
   ]
  },
  {
   "cell_type": "markdown",
   "id": "87fcc5b0",
   "metadata": {},
   "source": [
    "### 5.3 Building Train step function"
   ]
  },
  {
   "cell_type": "code",
   "execution_count": 39,
   "id": "00844205",
   "metadata": {},
   "outputs": [],
   "source": [
    "test_batch= train_data.as_numpy_iterator()\n",
    "ts1= test_batch.next()"
   ]
  },
  {
   "cell_type": "code",
   "execution_count": 40,
   "id": "4ba1bc44",
   "metadata": {},
   "outputs": [
    {
     "data": {
      "text/plain": [
       "(2, 16, 100, 100, 3)"
      ]
     },
     "execution_count": 40,
     "metadata": {},
     "output_type": "execute_result"
    }
   ],
   "source": [
    "np.array(ts1[:2]).shape"
   ]
  },
  {
   "cell_type": "code",
   "execution_count": 41,
   "id": "58349ace",
   "metadata": {},
   "outputs": [],
   "source": [
    "#building function\n",
    "\n",
    "@tf.function\n",
    "def train_step(batch):\n",
    "    \n",
    "    with tf.GradientTape() as tape: #used for the calculating differentials and for backpropagation\n",
    "        \n",
    "        #Get aanchor and positive/negative image\n",
    "        X=batch[:2]\n",
    "        \n",
    "        #label\n",
    "        y=batch[2]\n",
    "        \n",
    "        #forward pass\n",
    "        yhat= siamese_model(X, training=True)\n",
    "        \n",
    "        #Calculating loss\n",
    "        loss= binary_cross_loss(y, yhat)\n",
    "    \n",
    "    print(loss)\n",
    "    \n",
    "    #calculate gradients\n",
    "    grad= tape.gradient(loss, siamese_model.trainable_variables)\n",
    "    \n",
    "    #calculate updated weights and apply to the siamese model\n",
    "    opt.apply_gradients(zip(grad, siamese_model.trainable_variables))\n",
    "    \n",
    "    return loss\n",
    "    \n",
    "    "
   ]
  },
  {
   "cell_type": "code",
   "execution_count": 42,
   "id": "db8331ff",
   "metadata": {},
   "outputs": [],
   "source": [
    "#training loop\n",
    "\n",
    "def train(data, EPOCHS):\n",
    "    #loop through Epochs\n",
    "    \n",
    "    for epoch in range(1, EPOCHS+1):\n",
    "        print('\\n Epoch {}/{}'.format(epoch, EPOCHS))\n",
    "        progbar= tf.keras.utils.Progbar(len(data))\n",
    "        \n",
    "        #creating metric object\n",
    "        r=Recall()\n",
    "        p=Precision()\n",
    "        \n",
    "       #loop through each batch\n",
    "        for idx , batch in enumerate(data):\n",
    "            loss= train_step(batch)\n",
    "            yhat= siamese_model.predict(batch[:2])\n",
    "            r.update_state(batch[2], yhat)\n",
    "            p.update_state(batch[2], yhat)\n",
    "            \n",
    "            progbar.update(idx+1)\n",
    "        print(loss.numpy(), r.result().numpy(), p.result().numpy())\n",
    "    \n",
    "        #save checkpoints\n",
    "        if epoch % 10==0:\n",
    "            checkpoint.save(file_prefix= checkpoint_prefix)\n",
    "        "
   ]
  },
  {
   "cell_type": "code",
   "execution_count": null,
   "id": "66bab4ac",
   "metadata": {},
   "outputs": [],
   "source": []
  },
  {
   "cell_type": "markdown",
   "id": "8f61cf3e",
   "metadata": {},
   "source": [
    "## 8. Real time Test"
   ]
  },
  {
   "cell_type": "code",
   "execution_count": 43,
   "id": "998ab074",
   "metadata": {},
   "outputs": [
    {
     "name": "stdout",
     "output_type": "stream",
     "text": [
      "WARNING:tensorflow:No training configuration found in the save file, so the model was *not* compiled. Compile it manually.\n"
     ]
    }
   ],
   "source": [
    "#Loading the trained model\n",
    "\n",
    "model= tf.keras.models.load_model('siamesemodelv2.h5',\n",
    "                                custom_objects= {'L1Dist': L1Dist, 'BinaryCrossentropy': tf.losses.BinaryCrossentropy})\n",
    "\n",
    "\n"
   ]
  },
  {
   "cell_type": "code",
   "execution_count": 44,
   "id": "b824e29a",
   "metadata": {},
   "outputs": [
    {
     "name": "stdout",
     "output_type": "stream",
     "text": [
      "Model: \"SiameseNetwork\"\n",
      "__________________________________________________________________________________________________\n",
      " Layer (type)                   Output Shape         Param #     Connected to                     \n",
      "==================================================================================================\n",
      " input_img (InputLayer)         [(None, 100, 100, 3  0           []                               \n",
      "                                )]                                                                \n",
      "                                                                                                  \n",
      " validation_img (InputLayer)    [(None, 100, 100, 3  0           []                               \n",
      "                                )]                                                                \n",
      "                                                                                                  \n",
      " embedding (Functional)         (None, 4096)         38960448    ['input_img[0][0]',              \n",
      "                                                                  'validation_img[0][0]']         \n",
      "                                                                                                  \n",
      " l1_dist_1 (L1Dist)             (None, 4096)         0           ['embedding[0][0]',              \n",
      "                                                                  'embedding[1][0]']              \n",
      "                                                                                                  \n",
      " dense_1 (Dense)                (None, 1)            4097        ['l1_dist_1[0][0]']              \n",
      "                                                                                                  \n",
      "==================================================================================================\n",
      "Total params: 38,964,545\n",
      "Trainable params: 38,964,545\n",
      "Non-trainable params: 0\n",
      "__________________________________________________________________________________________________\n"
     ]
    }
   ],
   "source": [
    "model.summary()"
   ]
  },
  {
   "cell_type": "markdown",
   "id": "b273085c",
   "metadata": {},
   "source": [
    "### 8.1 Verification Function"
   ]
  },
  {
   "cell_type": "code",
   "execution_count": 45,
   "id": "a1c3b929",
   "metadata": {
    "scrolled": true
   },
   "outputs": [],
   "source": [
    "def verify( model, detection_threshold, verification_threshold):\n",
    "    \n",
    "    #detection threshold: Metric above which a prediction is considered positive\n",
    "    #verification threshold: proprtion of positive predictions / total positive samples\n",
    "    \n",
    "    results= []\n",
    "    for image in os.listdir(os.path.join('application_data', 'verification_images')):\n",
    "        input_img= preprocessing(os.path.join('application_data', 'input_image', 'input_image.jpg'))\n",
    "        validation_img=  preprocessing(os.path.join('application_data', 'verification_images', image))\n",
    "        \n",
    "        result= model.predict(list(np.expand_dims([input_img, validation_img], axis=1)))\n",
    "        results.append(result)\n",
    "    \n",
    "    \n",
    "    detection= np.sum(np.array(results)> detection_threshold)\n",
    "    verification= detection/ len(os.listdir(os.path.join('application_data', 'verification_images')))\n",
    "    verified= verification > verification_threshold #returns boolean\n",
    "    \n",
    "    return results, verified"
   ]
  },
  {
   "cell_type": "code",
   "execution_count": 46,
   "id": "888587ea",
   "metadata": {},
   "outputs": [
    {
     "name": "stdout",
     "output_type": "stream",
     "text": [
      "1/1 [==============================] - 11s 11s/step\n",
      "1/1 [==============================] - 1s 579ms/step\n",
      "1/1 [==============================] - 0s 216ms/step\n",
      "1/1 [==============================] - 0s 221ms/step\n",
      "1/1 [==============================] - 0s 447ms/step\n",
      "1/1 [==============================] - 0s 216ms/step\n",
      "1/1 [==============================] - 0s 287ms/step\n",
      "1/1 [==============================] - 1s 802ms/step\n",
      "1/1 [==============================] - 0s 203ms/step\n",
      "1/1 [==============================] - 0s 202ms/step\n",
      "1/1 [==============================] - 0s 443ms/step\n",
      "1/1 [==============================] - 0s 215ms/step\n",
      "1/1 [==============================] - 0s 201ms/step\n",
      "1/1 [==============================] - 0s 394ms/step\n",
      "1/1 [==============================] - 0s 202ms/step\n",
      "1/1 [==============================] - 1s 605ms/step\n",
      "1/1 [==============================] - 1s 575ms/step\n",
      "1/1 [==============================] - 0s 372ms/step\n",
      "1/1 [==============================] - 0s 206ms/step\n",
      "1/1 [==============================] - 0s 210ms/step\n",
      "1/1 [==============================] - 0s 218ms/step\n",
      "1/1 [==============================] - 0s 309ms/step\n",
      "1/1 [==============================] - 0s 426ms/step\n",
      "1/1 [==============================] - 0s 227ms/step\n",
      "1/1 [==============================] - 0s 258ms/step\n",
      "1/1 [==============================] - 0s 352ms/step\n",
      "1/1 [==============================] - 0s 282ms/step\n",
      "1/1 [==============================] - 0s 245ms/step\n",
      "1/1 [==============================] - 0s 240ms/step\n",
      "1/1 [==============================] - 0s 232ms/step\n",
      "1/1 [==============================] - 0s 217ms/step\n",
      "1/1 [==============================] - 0s 470ms/step\n",
      "1/1 [==============================] - 0s 315ms/step\n",
      "1/1 [==============================] - 0s 317ms/step\n",
      "1/1 [==============================] - 0s 231ms/step\n",
      "1/1 [==============================] - 0s 360ms/step\n",
      "1/1 [==============================] - 0s 238ms/step\n",
      "1/1 [==============================] - 0s 200ms/step\n",
      "1/1 [==============================] - 0s 204ms/step\n",
      "1/1 [==============================] - 0s 304ms/step\n",
      "1/1 [==============================] - 0s 207ms/step\n",
      "1/1 [==============================] - 0s 202ms/step\n",
      "1/1 [==============================] - 0s 282ms/step\n",
      "1/1 [==============================] - 0s 216ms/step\n",
      "1/1 [==============================] - 0s 312ms/step\n",
      "1/1 [==============================] - 0s 434ms/step\n",
      "1/1 [==============================] - 0s 243ms/step\n",
      "1/1 [==============================] - 0s 261ms/step\n",
      "1/1 [==============================] - 0s 222ms/step\n",
      "1/1 [==============================] - 0s 270ms/step\n",
      "1/1 [==============================] - 0s 212ms/step\n",
      "1/1 [==============================] - 0s 482ms/step\n",
      "1/1 [==============================] - 0s 209ms/step\n",
      "1/1 [==============================] - 0s 287ms/step\n",
      "1/1 [==============================] - 0s 207ms/step\n",
      "1/1 [==============================] - 0s 209ms/step\n",
      "1/1 [==============================] - 0s 257ms/step\n",
      "1/1 [==============================] - 0s 209ms/step\n",
      "1/1 [==============================] - 0s 258ms/step\n",
      "1/1 [==============================] - 0s 266ms/step\n",
      "1/1 [==============================] - 0s 258ms/step\n",
      "1/1 [==============================] - 0s 478ms/step\n",
      "1/1 [==============================] - 0s 200ms/step\n",
      "1/1 [==============================] - 0s 207ms/step\n",
      "1/1 [==============================] - 0s 209ms/step\n",
      "1/1 [==============================] - 0s 216ms/step\n",
      "1/1 [==============================] - 0s 244ms/step\n",
      "1/1 [==============================] - 0s 203ms/step\n",
      "1/1 [==============================] - 0s 369ms/step\n",
      "1/1 [==============================] - 0s 281ms/step\n",
      "1/1 [==============================] - 0s 330ms/step\n",
      "1/1 [==============================] - 0s 291ms/step\n",
      "1/1 [==============================] - 1s 664ms/step\n",
      "1/1 [==============================] - 0s 205ms/step\n",
      "1/1 [==============================] - 0s 210ms/step\n",
      "1/1 [==============================] - 0s 235ms/step\n",
      "1/1 [==============================] - 0s 241ms/step\n",
      "1/1 [==============================] - 1s 539ms/step\n",
      "1/1 [==============================] - 0s 221ms/step\n",
      "1/1 [==============================] - 1s 670ms/step\n",
      "1/1 [==============================] - 0s 204ms/step\n",
      "1/1 [==============================] - 0s 218ms/step\n",
      "1/1 [==============================] - 1s 888ms/step\n",
      "1/1 [==============================] - 0s 207ms/step\n",
      "1/1 [==============================] - 0s 218ms/step\n",
      "1/1 [==============================] - 0s 316ms/step\n",
      "1/1 [==============================] - 0s 207ms/step\n",
      "1/1 [==============================] - 0s 207ms/step\n",
      "1/1 [==============================] - 0s 201ms/step\n",
      "1/1 [==============================] - 0s 223ms/step\n",
      "1/1 [==============================] - 0s 378ms/step\n",
      "1/1 [==============================] - 0s 215ms/step\n",
      "1/1 [==============================] - 1s 635ms/step\n",
      "1/1 [==============================] - 0s 234ms/step\n",
      "1/1 [==============================] - 1s 516ms/step\n",
      "1/1 [==============================] - 0s 273ms/step\n",
      "1/1 [==============================] - 0s 336ms/step\n",
      "1/1 [==============================] - 0s 201ms/step\n",
      "1/1 [==============================] - 1s 702ms/step\n",
      "1/1 [==============================] - 0s 204ms/step\n",
      "1/1 [==============================] - 0s 202ms/step\n",
      "1/1 [==============================] - 0s 201ms/step\n",
      "1/1 [==============================] - 0s 219ms/step\n",
      "1/1 [==============================] - 0s 201ms/step\n",
      "1/1 [==============================] - 0s 202ms/step\n",
      "1/1 [==============================] - 0s 303ms/step\n",
      "1/1 [==============================] - 0s 212ms/step\n",
      "1/1 [==============================] - 1s 1s/step\n",
      "1/1 [==============================] - 0s 225ms/step\n",
      "1/1 [==============================] - 0s 224ms/step\n",
      "1/1 [==============================] - 0s 465ms/step\n",
      "1/1 [==============================] - 0s 244ms/step\n",
      "1/1 [==============================] - 0s 266ms/step\n",
      "1/1 [==============================] - 0s 274ms/step\n",
      "1/1 [==============================] - 0s 203ms/step\n",
      "1/1 [==============================] - 0s 212ms/step\n",
      "1/1 [==============================] - 0s 228ms/step\n",
      "1/1 [==============================] - 0s 232ms/step\n",
      "1/1 [==============================] - 0s 225ms/step\n",
      "True\n"
     ]
    }
   ],
   "source": [
    "### 8.2 OpenCV Real time verification\n",
    "\n",
    "cap= cv2.VideoCapture(0)\n",
    "\n",
    "while cap.isOpened():\n",
    "    ret, frame= cap.read()\n",
    "    \n",
    "    frame =frame[190:190+250, 250:250+250, :] \n",
    "    \n",
    "    cv2.imshow('Verification', frame)\n",
    "    \n",
    "    #verification trigger\n",
    "    if cv2.waitKey(1) & 0xFF== ord('v'):\n",
    "        cv2.imwrite(os.path.join('application_data', 'input_image', 'input_image.jpg'), frame)\n",
    "        \n",
    "        results, verified= verify(model,0.5,0.5)\n",
    "        print(verified)\n",
    "    \n",
    "    if cv2.waitKey(1) & 0xFF== ord('q'):\n",
    "        break\n",
    "        \n",
    "cap.release()\n",
    "cv2.destroyAllWindows()\n",
    "        \n",
    "    \n",
    "    "
   ]
  },
  {
   "cell_type": "code",
   "execution_count": null,
   "id": "abea2c99",
   "metadata": {},
   "outputs": [],
   "source": []
  },
  {
   "cell_type": "code",
   "execution_count": null,
   "id": "5d25c91f",
   "metadata": {},
   "outputs": [],
   "source": []
  },
  {
   "cell_type": "code",
   "execution_count": null,
   "id": "0d5b0d30",
   "metadata": {},
   "outputs": [],
   "source": []
  },
  {
   "cell_type": "code",
   "execution_count": null,
   "id": "8680508a",
   "metadata": {},
   "outputs": [],
   "source": []
  },
  {
   "cell_type": "code",
   "execution_count": null,
   "id": "d8bd3b5c",
   "metadata": {},
   "outputs": [],
   "source": []
  }
 ],
 "metadata": {
  "kernelspec": {
   "display_name": "Python 3 (ipykernel)",
   "language": "python",
   "name": "python3"
  },
  "language_info": {
   "codemirror_mode": {
    "name": "ipython",
    "version": 3
   },
   "file_extension": ".py",
   "mimetype": "text/x-python",
   "name": "python",
   "nbconvert_exporter": "python",
   "pygments_lexer": "ipython3",
   "version": "3.10.4"
  }
 },
 "nbformat": 4,
 "nbformat_minor": 5
}
